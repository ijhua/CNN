{
 "cells": [
  {
   "cell_type": "code",
   "execution_count": 1,
   "metadata": {},
   "outputs": [],
   "source": [
    "import pandas as pd\n",
    "import glob\n",
    "import cv2"
   ]
  },
  {
   "cell_type": "code",
   "execution_count": 2,
   "metadata": {},
   "outputs": [],
   "source": [
    "human = pd.read_csv(\"/home/ml/Documents/LW_Scores_IH.csv\")\n",
    "human['date'] = pd.to_datetime(human['date'])"
   ]
  },
  {
   "cell_type": "code",
   "execution_count": 3,
   "metadata": {},
   "outputs": [],
   "source": [
    "df = pd.DataFrame()\n",
    "rats = [\"MC78\",\"MC87\",\"MC30\",\"MC70\"]\n",
    "folders = []\n",
    "for rat in rats:\n",
    "    folders+=glob.glob(\"/home/ml/Documents/Not_TADSS_Videos/\"+rat+\"/cut/*.mp4\")\n",
    "file = []\n",
    "subject = []\n",
    "run = []\n",
    "crossing = []\n",
    "date=[]\n",
    "frames = []\n",
    "for f in folders:\n",
    "    name = f.split(\"/\")[-1]\n",
    "    file.append(name.split(\".\")[0])\n",
    "    run.append(name.split(\"_\")[2])\n",
    "    subject.append(name.split(\"_\")[0])\n",
    "    date.append(name.split(\"_\")[1])\n",
    "    crossing.append(name.split(\"_\")[3][-1])\n",
    "    cap = cv2.VideoCapture(f)\n",
    "    frames.append(int(cap.get(cv2.CAP_PROP_FRAME_COUNT)))"
   ]
  },
  {
   "cell_type": "code",
   "execution_count": 4,
   "metadata": {},
   "outputs": [],
   "source": [
    "df[\"file\"] = file\n",
    "df['subject']=subject\n",
    "df['date'] = date\n",
    "df['date']= pd.to_datetime(df[\"date\"])\n",
    "df['run'] = run\n",
    "df['crossing'] = crossing\n",
    "df['frames']=frames\n",
    "#new_df = pd.concat([df,df,df,df]).reset_index(drop=True)"
   ]
  },
  {
   "cell_type": "code",
   "execution_count": 5,
   "metadata": {},
   "outputs": [],
   "source": [
    "merged = human.merge(df,on=['subject','date','run'])"
   ]
  },
  {
   "cell_type": "code",
   "execution_count": 6,
   "metadata": {},
   "outputs": [],
   "source": [
    "merged.to_csv(\"/home/ml/Documents/data.csv\")"
   ]
  },
  {
   "cell_type": "code",
   "execution_count": null,
   "metadata": {},
   "outputs": [],
   "source": []
  },
  {
   "cell_type": "code",
   "execution_count": null,
   "metadata": {},
   "outputs": [],
   "source": []
  }
 ],
 "metadata": {
  "kernelspec": {
   "display_name": "Python 3",
   "language": "python",
   "name": "python3"
  },
  "language_info": {
   "codemirror_mode": {
    "name": "ipython",
    "version": 3
   },
   "file_extension": ".py",
   "mimetype": "text/x-python",
   "name": "python",
   "nbconvert_exporter": "python",
   "pygments_lexer": "ipython3",
   "version": "3.7.4"
  }
 },
 "nbformat": 4,
 "nbformat_minor": 2
}

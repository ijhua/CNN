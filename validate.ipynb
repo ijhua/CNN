{
 "cells": [
  {
   "cell_type": "code",
   "execution_count": 1,
   "metadata": {},
   "outputs": [
    {
     "name": "stderr",
     "output_type": "stream",
     "text": [
      "Using TensorFlow backend.\n"
     ]
    },
    {
     "name": "stdout",
     "output_type": "stream",
     "text": [
      "Loading model data/checkpoints/lstm-features.001-0.000.hdf5\n",
      "WARNING:tensorflow:From /home/ml/anaconda3/lib/python3.7/site-packages/tensorflow/python/ops/resource_variable_ops.py:435: colocate_with (from tensorflow.python.framework.ops) is deprecated and will be removed in a future version.\n",
      "Instructions for updating:\n",
      "Colocations handled automatically by placer.\n",
      "WARNING:tensorflow:From /home/ml/anaconda3/lib/python3.7/site-packages/tensorflow/python/ops/math_ops.py:3066: to_int32 (from tensorflow.python.ops.math_ops) is deprecated and will be removed in a future version.\n",
      "Instructions for updating:\n",
      "Use tf.cast instead.\n",
      "Model: \"sequential_1\"\n",
      "_________________________________________________________________\n",
      "Layer (type)                 Output Shape              Param #   \n",
      "=================================================================\n",
      "lstm_1 (LSTM)                (None, 2048)              33562624  \n",
      "_________________________________________________________________\n",
      "dense_1 (Dense)              (None, 512)               1049088   \n",
      "_________________________________________________________________\n",
      "dropout_1 (Dropout)          (None, 512)               0         \n",
      "_________________________________________________________________\n",
      "dense_2 (Dense)              (None, 1)                 513       \n",
      "=================================================================\n",
      "Total params: 34,612,225\n",
      "Trainable params: 34,612,225\n",
      "Non-trainable params: 0\n",
      "_________________________________________________________________\n",
      "None\n"
     ]
    },
    {
     "name": "stderr",
     "output_type": "stream",
     "text": [
      "/home/ml/anaconda3/lib/python3.7/site-packages/ipykernel_launcher.py:37: UserWarning: The semantics of the Keras 2 argument `steps_per_epoch` is not the same as the Keras 1 argument `samples_per_epoch`. `steps_per_epoch` is the number of batches to draw from the generator at each epoch. Basically steps_per_epoch = samples_per_epoch/batch_size. Similarly `nb_val_samples`->`validation_steps` and `val_samples`->`steps` arguments have changed. Update your method calls accordingly.\n",
      "/home/ml/anaconda3/lib/python3.7/site-packages/ipykernel_launcher.py:37: UserWarning: Update your `evaluate_generator` call to the Keras 2 API: `evaluate_generator(generator=<data.thre..., steps=3200)`\n"
     ]
    },
    {
     "name": "stdout",
     "output_type": "stream",
     "text": [
      "Creating test generator with 8 samples.\n",
      "[0.0, 1.0]\n",
      "['loss', 'accuracy']\n"
     ]
    }
   ],
   "source": [
    "\"\"\"\n",
    "Validate our RNN. Basically just runs a validation generator on\n",
    "about the same number of videos as we have in our test set.\n",
    "\"\"\"\n",
    "from keras.callbacks import TensorBoard, ModelCheckpoint, CSVLogger\n",
    "from models import ResearchModels\n",
    "from data import DataSet\n",
    "import os\n",
    "\n",
    "os.environ['TF_CPP_MIN_LOG_LEVEL'] = '2'\n",
    "\n",
    "def validate(data_type, model, seq_length=40, saved_model=None,\n",
    "             class_limit=None, image_shape=None):\n",
    "    batch_size = 32\n",
    "\n",
    "    # Get the data and process it.\n",
    "    if image_shape is None:\n",
    "        data = DataSet(\n",
    "            seq_length=seq_length,\n",
    "            class_limit=class_limit\n",
    "        )\n",
    "    else:\n",
    "        data = DataSet(\n",
    "            seq_length=seq_length,\n",
    "            class_limit=class_limit,\n",
    "            image_shape=image_shape\n",
    "        )\n",
    "\n",
    "    val_generator = data.frame_generator(batch_size, 'test', data_type)\n",
    "\n",
    "    # Get the model.\n",
    "    rm = ResearchModels(len(data.classes), model, seq_length, saved_model)\n",
    "\n",
    "    # Evaluate!\n",
    "    results = rm.model.evaluate_generator(\n",
    "        generator=val_generator,\n",
    "        val_samples=3200)\n",
    "\n",
    "    print(results)\n",
    "    print(rm.model.metrics_names)\n",
    "\n",
    "def main():\n",
    "    model = 'lstm'\n",
    "    saved_model = 'data/checkpoints/lstm-features.001-0.000.hdf5'\n",
    "\n",
    "    if model == 'conv_3d' or model == 'lrcn':\n",
    "        data_type = 'images'\n",
    "        image_shape = (80, 80, 3)\n",
    "    else:\n",
    "        data_type = 'features'\n",
    "        image_shape = None\n",
    "\n",
    "    validate(data_type, model, saved_model=saved_model,\n",
    "             image_shape=image_shape, class_limit=4)\n",
    "\n",
    "if __name__ == '__main__':\n",
    "    main()"
   ]
  },
  {
   "cell_type": "code",
   "execution_count": null,
   "metadata": {},
   "outputs": [],
   "source": []
  }
 ],
 "metadata": {
  "kernelspec": {
   "display_name": "Python 3",
   "language": "python",
   "name": "python3"
  },
  "language_info": {
   "codemirror_mode": {
    "name": "ipython",
    "version": 3
   },
   "file_extension": ".py",
   "mimetype": "text/x-python",
   "name": "python",
   "nbconvert_exporter": "python",
   "pygments_lexer": "ipython3",
   "version": "3.7.7"
  }
 },
 "nbformat": 4,
 "nbformat_minor": 2
}

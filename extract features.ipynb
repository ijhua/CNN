{
 "cells": [
  {
   "cell_type": "code",
   "execution_count": 1,
   "metadata": {
    "scrolled": true
   },
   "outputs": [
    {
     "name": "stderr",
     "output_type": "stream",
     "text": [
      "Using notTheano backend.\n",
      "100%|██████████| 97/97 [12:15<00:00,  7.59s/it]\n"
     ]
    }
   ],
   "source": [
    "\"\"\"\n",
    "This script generates extracted features for each video, which other\n",
    "models make use of.\n",
    "\n",
    "You can change you sequence length and limit to a set number of classes\n",
    "below.\n",
    "\n",
    "class_limit is an integer that denotes the first N classes you want to\n",
    "extract features from. This is useful is you don't want to wait to\n",
    "extract all 101 classes. For instance, set class_limit = 8 to just\n",
    "extract features for the first 8 (alphabetical) classes in the dataset.\n",
    "Then set the same number when training models.\n",
    "\"\"\"\n",
    "import numpy as np\n",
    "import os.path\n",
    "import os\n",
    "from data import DataSet\n",
    "from extractor import Extractor\n",
    "from tqdm import tqdm\n",
    "import tensorflow\n",
    "\n",
    "\n",
    "# Set defaults.\n",
    "seq_length = 45\n",
    "class_limit = None  # Number of classes to extract. Can be 1-101 or None for all.\n",
    "\n",
    "# Get the dataset.\n",
    "data = DataSet(seq_length=seq_length, class_limit=class_limit)\n",
    "\n",
    "# get the model.\n",
    "model = Extractor()\n",
    "\n",
    "# Loop through data.\n",
    "pbar = tqdm(total=len(data.data))\n",
    "for video in data.data:\n",
    "\n",
    "    # Get the path to the sequence for this video.\n",
    "    path = '/home/ml/Documents/CNN/data/sequences/'+ video[2] + '-' + str(seq_length) + \\\n",
    "        '-features'  # numpy will auto-append .npy\n",
    "\n",
    "    # Check if we already have it.\n",
    "    if os.path.isfile(path + '.npy'):\n",
    "        pbar.update(1)\n",
    "        continue\n",
    "\n",
    "    # Get the frames for this video.\n",
    "    frames = data.get_frames_for_sample(video)\n",
    "    \n",
    "    \n",
    "    # Now downsample to just the ones we need.\n",
    "    frames = data.rescale_list(frames, seq_length)\n",
    "\n",
    "    # Now loop through and extract features to build the sequence.\n",
    "    sequence = []\n",
    "    for image in frames:\n",
    "        features = model.extract(image)\n",
    "        sequence.append(features)\n",
    "\n",
    "    # Save the sequence.\n",
    "    np.save(path, sequence)\n",
    "\n",
    "    pbar.update(1)\n",
    "\n",
    "pbar.close()"
   ]
  },
  {
   "cell_type": "code",
   "execution_count": 2,
   "metadata": {},
   "outputs": [
    {
     "data": {
      "text/plain": [
       "[name: \"/device:CPU:0\"\n",
       " device_type: \"CPU\"\n",
       " memory_limit: 268435456\n",
       " locality {\n",
       " }\n",
       " incarnation: 330031236269908095,\n",
       " name: \"/device:XLA_CPU:0\"\n",
       " device_type: \"XLA_CPU\"\n",
       " memory_limit: 17179869184\n",
       " locality {\n",
       " }\n",
       " incarnation: 8983864930052951637\n",
       " physical_device_desc: \"device: XLA_CPU device\"]"
      ]
     },
     "execution_count": 2,
     "metadata": {},
     "output_type": "execute_result"
    }
   ],
   "source": [
    "from tensorflow.python.client import device_lib\n",
    "\n",
    "device_lib.list_local_devices()"
   ]
  },
  {
   "cell_type": "code",
   "execution_count": 10,
   "metadata": {},
   "outputs": [
    {
     "data": {
      "text/plain": [
       "'/home/ml/Documents/CNN/data/test/ladder/MC30_12-03-2019_L2_crossing4_patternA_light2_'"
      ]
     },
     "execution_count": 10,
     "metadata": {},
     "output_type": "execute_result"
    }
   ],
   "source": [
    "sample=video\n",
    "import glob\n",
    "\"\"\"Given a sample row from the data file, get all the corresponding frame\n",
    "filenames.\"\"\"\n",
    "path = '/home/ml/Documents/CNN/data/' + sample[0] + '/' + sample[1] + '/'\n",
    "filename = sample[2]\n",
    "images = sorted(glob.glob(path + filename + '*jpg'))\n",
    "path+filename\n"
   ]
  },
  {
   "cell_type": "code",
   "execution_count": 2,
   "metadata": {},
   "outputs": [
    {
     "data": {
      "text/plain": [
       "'2.1.0'"
      ]
     },
     "execution_count": 2,
     "metadata": {},
     "output_type": "execute_result"
    }
   ],
   "source": [
    "import tensorflow\n",
    "tensorflow.__version__"
   ]
  },
  {
   "cell_type": "code",
   "execution_count": 3,
   "metadata": {},
   "outputs": [
    {
     "name": "stdout",
     "output_type": "stream",
     "text": [
      "Num GPUs Available:  0\n"
     ]
    }
   ],
   "source": [
    "import tensorflow as tf\n",
    "print(\"Num GPUs Available: \", len(tf.config.experimental.list_physical_devices('GPU')))"
   ]
  },
  {
   "cell_type": "code",
   "execution_count": 4,
   "metadata": {},
   "outputs": [
    {
     "name": "stderr",
     "output_type": "stream",
     "text": [
      "Using notTheano backend.\n"
     ]
    },
    {
     "data": {
      "text/plain": [
       "'2.3.1'"
      ]
     },
     "execution_count": 4,
     "metadata": {},
     "output_type": "execute_result"
    }
   ],
   "source": [
    "import keras\n",
    "keras.__version__"
   ]
  },
  {
   "cell_type": "code",
   "execution_count": 5,
   "metadata": {},
   "outputs": [
    {
     "ename": "ModuleNotFoundError",
     "evalue": "No module named 'bazel'",
     "output_type": "error",
     "traceback": [
      "\u001b[0;31m---------------------------------------------------------------------------\u001b[0m",
      "\u001b[0;31mModuleNotFoundError\u001b[0m                       Traceback (most recent call last)",
      "\u001b[0;32m<ipython-input-5-f098b846eb78>\u001b[0m in \u001b[0;36m<module>\u001b[0;34m\u001b[0m\n\u001b[0;32m----> 1\u001b[0;31m \u001b[0;32mimport\u001b[0m \u001b[0mbazel\u001b[0m\u001b[0;34m\u001b[0m\u001b[0;34m\u001b[0m\u001b[0m\n\u001b[0m",
      "\u001b[0;31mModuleNotFoundError\u001b[0m: No module named 'bazel'"
     ]
    }
   ],
   "source": [
    "import bazel"
   ]
  },
  {
   "cell_type": "code",
   "execution_count": 5,
   "metadata": {},
   "outputs": [
    {
     "name": "stdout",
     "output_type": "stream",
     "text": [
      "# packages in environment at /home/ml/anaconda3/envs/cnn:\r\n",
      "#\r\n",
      "# Name                    Version                   Build  Channel\r\n",
      "_libgcc_mutex             0.1                        main  \r\n",
      "_tflow_select             2.3.0                       mkl  \r\n",
      "absl-py                   0.9.0                    py36_0  \r\n",
      "asn1crypto                1.3.0                    py36_0  \r\n",
      "astor                     0.8.0                    py36_0  \r\n",
      "bazel                     0.26.1               hf484d3e_0  \r\n",
      "blas                      1.0                         mkl  \r\n",
      "blinker                   1.4                      py36_0  \r\n",
      "c-ares                    1.15.0            h7b6447c_1001  \r\n",
      "ca-certificates           2020.1.1                      0  \r\n",
      "cachetools                3.1.1                      py_0  \r\n",
      "certifi                   2020.4.5.1               py36_0  \r\n",
      "cffi                      1.14.0           py36h2e261b9_0  \r\n",
      "chardet                   3.0.4                 py36_1003  \r\n",
      "click                     7.1.1                      py_0  \r\n",
      "cryptography              2.8              py36h1ba5d50_0  \r\n",
      "cudatoolkit               10.1.243             h6bb024c_0  \r\n",
      "cudnn                     7.6.5                cuda10.1_0  \r\n",
      "cupti                     10.1.168                      0  \r\n",
      "cycler                    0.10.0                   py36_0  \r\n",
      "dbus                      1.13.12              h746ee38_0  \r\n",
      "expat                     2.2.6                he6710b0_0  \r\n",
      "fontconfig                2.13.0               h9420a91_0  \r\n",
      "freetype                  2.9.1                h8a8886c_1  \r\n",
      "gast                      0.2.2                    py36_0  \r\n",
      "glib                      2.63.1               h5a9c865_0  \r\n",
      "google-auth               1.13.1                     py_0  \r\n",
      "google-auth-oauthlib      0.4.1                      py_2  \r\n",
      "google-pasta              0.2.0                      py_0  \r\n",
      "grpcio                    1.27.2           py36hf8bcb03_0  \r\n",
      "gst-plugins-base          1.14.0               hbbd80ab_1  \r\n",
      "gstreamer                 1.14.0               hb453b48_1  \r\n",
      "h5py                      2.10.0           py36h7918eee_0  \r\n",
      "hdf5                      1.10.4               hb1b8bf9_0  \r\n",
      "icu                       58.2                 h9c2bf20_1  \r\n",
      "idna                      2.9                        py_1  \r\n",
      "intel-openmp              2020.0                      166  \r\n",
      "jpeg                      9b                   h024ee3a_2  \r\n",
      "keras-applications        1.0.8                      py_0  \r\n",
      "keras-preprocessing       1.1.0                      py_1  \r\n",
      "kiwisolver                1.1.0            py36he6710b0_0  \r\n",
      "ld_impl_linux-64          2.33.1               h53a641e_7  \r\n",
      "libedit                   3.1.20181209         hc058e9b_0  \r\n",
      "libffi                    3.2.1                hd88cf55_4  \r\n",
      "libgcc-ng                 9.1.0                hdf63c60_0  \r\n",
      "libgfortran-ng            7.3.0                hdf63c60_0  \r\n",
      "libpng                    1.6.37               hbc83047_0  \r\n",
      "libprotobuf               3.11.4               hd408876_0  \r\n",
      "libstdcxx-ng              9.1.0                hdf63c60_0  \r\n",
      "libtiff                   4.1.0                h2733197_0  \r\n",
      "libuuid                   1.0.3                h1bed415_2  \r\n",
      "libxcb                    1.13                 h1bed415_1  \r\n",
      "libxml2                   2.9.9                hea5a465_1  \r\n",
      "markdown                  3.1.1                    py36_0  \r\n",
      "matplotlib                3.1.3                    py36_0  \r\n",
      "matplotlib-base           3.1.3            py36hef1b27d_0  \r\n",
      "mkl                       2020.0                      166  \r\n",
      "mkl-service               2.3.0            py36he904b0f_0  \r\n",
      "mkl_fft                   1.0.15           py36ha843d7b_0  \r\n",
      "mkl_random                1.1.0            py36hd6b4f25_0  \r\n",
      "mock                      4.0.1                      py_1  \r\n",
      "ncurses                   6.2                  he6710b0_0  \r\n",
      "numpy                     1.18.1           py36h4f9e942_0  \r\n",
      "numpy-base                1.18.1           py36hde5b4d6_1  \r\n",
      "oauthlib                  3.1.0                      py_0  \r\n",
      "olefile                   0.46                     py36_0  \r\n",
      "openssl                   1.1.1g               h7b6447c_0  \r\n",
      "opt_einsum                3.1.0                      py_0  \r\n",
      "pandas                    1.0.3            py36h0573a6f_0  \r\n",
      "pcre                      8.43                 he6710b0_0  \r\n",
      "pillow                    7.0.0            py36hb39fc2d_0  \r\n",
      "pip                       20.0.2                   py36_1  \r\n",
      "protobuf                  3.11.4           py36he6710b0_0  \r\n",
      "pyasn1                    0.4.8                      py_0  \r\n",
      "pyasn1-modules            0.2.7                      py_0  \r\n",
      "pycparser                 2.20                       py_0  \r\n",
      "pyjwt                     1.7.1                    py36_0  \r\n",
      "pyopenssl                 19.1.0                   py36_0  \r\n",
      "pyparsing                 2.4.6                      py_0  \r\n",
      "pyqt                      5.9.2            py36h05f1152_2  \r\n",
      "pysocks                   1.7.1                    py36_0  \r\n",
      "python                    3.6.10               hcf32534_1  \r\n",
      "python-dateutil           2.8.1                      py_0  \r\n",
      "pytz                      2019.3                     py_0  \r\n",
      "qt                        5.9.7                h5867ecd_1  \r\n",
      "readline                  8.0                  h7b6447c_0  \r\n",
      "requests                  2.23.0                   py36_0  \r\n",
      "requests-oauthlib         1.3.0                      py_0  \r\n",
      "rsa                       4.0                        py_0  \r\n",
      "scipy                     1.4.1            py36h0b6359f_0  \r\n",
      "setuptools                46.1.3                   py36_0  \r\n",
      "sip                       4.19.8           py36hf484d3e_0  \r\n",
      "six                       1.14.0                   py36_0  \r\n",
      "sqlite                    3.31.1               h62c20be_1  \r\n",
      "tensorboard               2.1.0                     py3_0  \r\n",
      "tensorflow                2.1.0           mkl_py36h23468d9_0  \r\n",
      "tensorflow-base           2.1.0           mkl_py36h6d63fb7_0  \r\n",
      "tensorflow-estimator      2.1.0              pyhd54b08b_0  \r\n",
      "termcolor                 1.1.0                    py36_1  \r\n",
      "tk                        8.6.8                hbc83047_0  \r\n",
      "tornado                   6.0.4            py36h7b6447c_1  \r\n",
      "urllib3                   1.25.8                   py36_0  \r\n",
      "werkzeug                  1.0.1                      py_0  \r\n",
      "wheel                     0.34.2                   py36_0  \r\n",
      "wrapt                     1.12.1           py36h7b6447c_1  \r\n",
      "xz                        5.2.5                h7b6447c_0  \r\n",
      "zlib                      1.2.11               h7b6447c_3  \r\n",
      "zstd                      1.3.7                h0b5b093_0  \r\n"
     ]
    }
   ],
   "source": [
    "!conda list"
   ]
  },
  {
   "cell_type": "code",
   "execution_count": null,
   "metadata": {},
   "outputs": [],
   "source": []
  }
 ],
 "metadata": {
  "kernelspec": {
   "display_name": "Python 3",
   "language": "python",
   "name": "python3"
  },
  "language_info": {
   "codemirror_mode": {
    "name": "ipython",
    "version": 3
   },
   "file_extension": ".py",
   "mimetype": "text/x-python",
   "name": "python",
   "nbconvert_exporter": "python",
   "pygments_lexer": "ipython3",
   "version": "3.7.7"
  }
 },
 "nbformat": 4,
 "nbformat_minor": 2
}
